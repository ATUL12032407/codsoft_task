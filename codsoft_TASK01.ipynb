{
 "cells": [
  {
   "cell_type": "markdown",
   "id": "71e46f92-02f4-4e7f-baf6-92a8ef23676c",
   "metadata": {},
   "source": [
    "1.TO-DO LIST APPLICATION"
   ]
  },
  {
   "cell_type": "code",
   "execution_count": null,
   "id": "66b25fc4-275f-42c2-b53c-9ef9d0571b0a",
   "metadata": {},
   "outputs": [
    {
     "name": "stdout",
     "output_type": "stream",
     "text": [
      "\n",
      "===== To-Do List =====\n",
      "1. View Tasks\n",
      "2. Add Task\n",
      "3. Update Task\n",
      "4. Delete Task\n",
      "5. Exit\n"
     ]
    },
    {
     "name": "stdin",
     "output_type": "stream",
     "text": [
      "Enter your choice (1-5):  1\n"
     ]
    },
    {
     "name": "stdout",
     "output_type": "stream",
     "text": [
      "\n",
      "===== Tasks =====\n",
      "1. ATUL\n",
      "2. PUJA\n",
      "\n",
      "===== To-Do List =====\n",
      "1. View Tasks\n",
      "2. Add Task\n",
      "3. Update Task\n",
      "4. Delete Task\n",
      "5. Exit\n"
     ]
    },
    {
     "name": "stdin",
     "output_type": "stream",
     "text": [
      "Enter your choice (1-5):  2\n"
     ]
    }
   ],
   "source": [
    "import os\n",
    "\n",
    "def display_menu():\n",
    "    print(\"\\n===== To-Do List =====\")\n",
    "    print(\"1. View Tasks\")\n",
    "    print(\"2. Add Task\")\n",
    "    print(\"3. Update Task\")\n",
    "    print(\"4. Delete Task\")\n",
    "    print(\"5. Exit\")\n",
    "\n",
    "def view_tasks():\n",
    "    if os.path.exists(\"tasks.txt\"):\n",
    "        with open(\"tasks.txt\", \"r\") as file:\n",
    "            tasks = file.readlines()\n",
    "            if tasks:\n",
    "                print(\"\\n===== Tasks =====\")\n",
    "                for idx, task in enumerate(tasks, start=1):\n",
    "                    print(f\"{idx}. {task.strip()}\")\n",
    "            else:\n",
    "                print(\"\\nNo tasks found.\")\n",
    "    else:\n",
    "        print(\"\\nNo tasks found.\")\n",
    "\n",
    "def add_task():\n",
    "    task_input = input(\"\\nEnter the task: \")\n",
    "    with open(\"tasks.txt\", \"a\") as file:\n",
    "        file.write(task_input + \"\\n\")\n",
    "    print(\"Task added successfully.\")\n",
    "\n",
    "def update_task():\n",
    "    view_tasks()\n",
    "    try:\n",
    "        task_index = int(input(\"\\nEnter the task number to update: \")) - 1\n",
    "        with open(\"tasks.txt\", \"r\") as file:\n",
    "            tasks = file.readlines()\n",
    "        if 0 <= task_index < len(tasks):\n",
    "            updated_task = input(\"Enter the updated task: \")\n",
    "            tasks[task_index] = updated_task + \"\\n\"\n",
    "            with open(\"tasks.txt\", \"w\") as file:\n",
    "                file.writelines(tasks)\n",
    "            print(\"Task updated successfully.\")\n",
    "        else:\n",
    "            print(\"Invalid task number.\")\n",
    "    except ValueError:\n",
    "        print(\"Please enter a valid number.\")\n",
    "\n",
    "def delete_task():\n",
    "    view_tasks()\n",
    "    try:\n",
    "        task_index = int(input(\"\\nEnter the task number to delete: \")) - 1\n",
    "        with open(\"tasks.txt\", \"r\") as file:\n",
    "            tasks = file.readlines()\n",
    "        if 0 <= task_index < len(tasks):\n",
    "            deleted_task = tasks.pop(task_index)\n",
    "            with open(\"tasks.txt\", \"w\") as file:\n",
    "                file.writelines(tasks)\n",
    "            print(f\"Task '{deleted_task.strip()}' deleted successfully.\")\n",
    "        else:\n",
    "            print(\"Invalid task number.\")\n",
    "    except ValueError:\n",
    "        print(\"Please enter a valid number.\")\n",
    "\n",
    "def main():\n",
    "    while True:\n",
    "        display_menu()\n",
    "        user_choice = input(\"Enter your choice (1-5): \")\n",
    "\n",
    "        if user_choice == \"1\":\n",
    "            view_tasks()\n",
    "        elif user_choice == \"2\":\n",
    "            add_task()\n",
    "        elif user_choice == \"3\":\n",
    "            update_task()\n",
    "        elif user_choice == \"4\":\n",
    "            delete_task()\n",
    "        elif user_choice == \"5\":\n",
    "            print(\"Exiting the To-Do List application. Goodbye!\")\n",
    "            break\n",
    "        else:\n",
    "            print(\"Invalid choice. Please enter a number between 1 and 5.\")\n",
    "\n",
    "if __name__ == \"__main__\":\n",
    "    main()\n"
   ]
  },
  {
   "cell_type": "code",
   "execution_count": null,
   "id": "e32e84f5-79fd-49e5-a08c-6497abea83fa",
   "metadata": {},
   "outputs": [],
   "source": []
  }
 ],
 "metadata": {
  "kernelspec": {
   "display_name": "Python 3 (ipykernel)",
   "language": "python",
   "name": "python3"
  },
  "language_info": {
   "codemirror_mode": {
    "name": "ipython",
    "version": 3
   },
   "file_extension": ".py",
   "mimetype": "text/x-python",
   "name": "python",
   "nbconvert_exporter": "python",
   "pygments_lexer": "ipython3",
   "version": "3.10.8"
  }
 },
 "nbformat": 4,
 "nbformat_minor": 5
}
